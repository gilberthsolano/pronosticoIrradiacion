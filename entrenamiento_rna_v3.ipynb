{
 "cells": [
  {
   "cell_type": "code",
   "execution_count": 1,
   "metadata": {},
   "outputs": [
    {
     "name": "stdout",
     "output_type": "stream",
     "text": [
      "WARNING:tensorflow:From c:\\Users\\luisj\\AppData\\Local\\Programs\\Python\\Python310\\lib\\site-packages\\keras\\src\\losses.py:2976: The name tf.losses.sparse_softmax_cross_entropy is deprecated. Please use tf.compat.v1.losses.sparse_softmax_cross_entropy instead.\n",
      "\n"
     ]
    }
   ],
   "source": [
    "import pandas as pd\n",
    "import numpy as np\n",
    "import tensorflow as tf\n",
    "from sklearn.model_selection import train_test_split\n",
    "from sklearn.preprocessing import StandardScaler\n"
   ]
  },
  {
   "cell_type": "code",
   "execution_count": 12,
   "metadata": {},
   "outputs": [],
   "source": [
    "df = pd.read_csv('datos_v2.csv', delimiter=';')\n",
    "# df2 = pd.read_csv('datos.csv', delimiter=';')"
   ]
  },
  {
   "cell_type": "code",
   "execution_count": 11,
   "metadata": {},
   "outputs": [
    {
     "data": {
      "text/html": [
       "<div>\n",
       "<style scoped>\n",
       "    .dataframe tbody tr th:only-of-type {\n",
       "        vertical-align: middle;\n",
       "    }\n",
       "\n",
       "    .dataframe tbody tr th {\n",
       "        vertical-align: top;\n",
       "    }\n",
       "\n",
       "    .dataframe thead th {\n",
       "        text-align: right;\n",
       "    }\n",
       "</style>\n",
       "<table border=\"1\" class=\"dataframe\">\n",
       "  <thead>\n",
       "    <tr style=\"text-align: right;\">\n",
       "      <th></th>\n",
       "      <th>Temperatura de módulo | Sensor Card / Box (1)</th>\n",
       "      <th>Irradiación | Sensor Card / Box (1)</th>\n",
       "      <th>Temperatura ambiente | Sensor Card / Box (1)</th>\n",
       "      <th>Fecha y hora</th>\n",
       "    </tr>\n",
       "  </thead>\n",
       "  <tbody>\n",
       "    <tr>\n",
       "      <th>0</th>\n",
       "      <td>31,00</td>\n",
       "      <td>288,00</td>\n",
       "      <td>24,00</td>\n",
       "      <td>01.03.2024 15:45</td>\n",
       "    </tr>\n",
       "    <tr>\n",
       "      <th>1</th>\n",
       "      <td>34,00</td>\n",
       "      <td>293,62</td>\n",
       "      <td>24,00</td>\n",
       "      <td>01.03.2024 15:50</td>\n",
       "    </tr>\n",
       "    <tr>\n",
       "      <th>2</th>\n",
       "      <td>34,00</td>\n",
       "      <td>340,00</td>\n",
       "      <td>24,00</td>\n",
       "      <td>01.03.2024 15:55</td>\n",
       "    </tr>\n",
       "    <tr>\n",
       "      <th>3</th>\n",
       "      <td>36,00</td>\n",
       "      <td>469,00</td>\n",
       "      <td>24,00</td>\n",
       "      <td>01.03.2024 16:00</td>\n",
       "    </tr>\n",
       "    <tr>\n",
       "      <th>4</th>\n",
       "      <td>36,00</td>\n",
       "      <td>385,00</td>\n",
       "      <td>24,00</td>\n",
       "      <td>01.03.2024 16:05</td>\n",
       "    </tr>\n",
       "    <tr>\n",
       "      <th>...</th>\n",
       "      <td>...</td>\n",
       "      <td>...</td>\n",
       "      <td>...</td>\n",
       "      <td>...</td>\n",
       "    </tr>\n",
       "    <tr>\n",
       "      <th>57881</th>\n",
       "      <td>NaN</td>\n",
       "      <td>NaN</td>\n",
       "      <td>NaN</td>\n",
       "      <td>NaN</td>\n",
       "    </tr>\n",
       "    <tr>\n",
       "      <th>57882</th>\n",
       "      <td>NaN</td>\n",
       "      <td>NaN</td>\n",
       "      <td>NaN</td>\n",
       "      <td>NaN</td>\n",
       "    </tr>\n",
       "    <tr>\n",
       "      <th>57883</th>\n",
       "      <td>NaN</td>\n",
       "      <td>NaN</td>\n",
       "      <td>NaN</td>\n",
       "      <td>NaN</td>\n",
       "    </tr>\n",
       "    <tr>\n",
       "      <th>57884</th>\n",
       "      <td>NaN</td>\n",
       "      <td>NaN</td>\n",
       "      <td>NaN</td>\n",
       "      <td>NaN</td>\n",
       "    </tr>\n",
       "    <tr>\n",
       "      <th>57885</th>\n",
       "      <td>NaN</td>\n",
       "      <td>NaN</td>\n",
       "      <td>NaN</td>\n",
       "      <td>NaN</td>\n",
       "    </tr>\n",
       "  </tbody>\n",
       "</table>\n",
       "<p>70287 rows × 4 columns</p>\n",
       "</div>"
      ],
      "text/plain": [
       "      Temperatura de módulo | Sensor Card / Box (1)   \n",
       "0                                          31,00     \\\n",
       "1                                          34,00      \n",
       "2                                          34,00      \n",
       "3                                          36,00      \n",
       "4                                          36,00      \n",
       "...                                             ...   \n",
       "57881                                           NaN   \n",
       "57882                                           NaN   \n",
       "57883                                           NaN   \n",
       "57884                                           NaN   \n",
       "57885                                           NaN   \n",
       "\n",
       "      Irradiación | Sensor Card / Box (1)   \n",
       "0                               288,00     \\\n",
       "1                               293,62      \n",
       "2                               340,00      \n",
       "3                               469,00      \n",
       "4                               385,00      \n",
       "...                                   ...   \n",
       "57881                                 NaN   \n",
       "57882                                 NaN   \n",
       "57883                                 NaN   \n",
       "57884                                 NaN   \n",
       "57885                                 NaN   \n",
       "\n",
       "      Temperatura ambiente | Sensor Card / Box (1)      Fecha y hora  \n",
       "0                                         24,00     01.03.2024 15:45  \n",
       "1                                         24,00     01.03.2024 15:50  \n",
       "2                                         24,00     01.03.2024 15:55  \n",
       "3                                         24,00     01.03.2024 16:00  \n",
       "4                                         24,00     01.03.2024 16:05  \n",
       "...                                            ...               ...  \n",
       "57881                                          NaN               NaN  \n",
       "57882                                          NaN               NaN  \n",
       "57883                                          NaN               NaN  \n",
       "57884                                          NaN               NaN  \n",
       "57885                                          NaN               NaN  \n",
       "\n",
       "[70287 rows x 4 columns]"
      ]
     },
     "execution_count": 11,
     "metadata": {},
     "output_type": "execute_result"
    }
   ],
   "source": [
    "# Unir los dos Dataframe del 20323 y 2024 \n",
    "# ESTE PASO EL OPCIONAL Solo si cargan los datos df2\n",
    "# columnasEnComun = ['Temperatura de módulo | Sensor Card / Box (1)','Irradiación | Sensor Card / Box (1)','Temperatura ambiente | Sensor Card / Box (1)','Fecha y hora']\n",
    "# df = pd.concat([df[columnasEnComun], df2[columnasEnComun]])\n",
    "# df"
   ]
  },
  {
   "cell_type": "code",
   "execution_count": 13,
   "metadata": {},
   "outputs": [
    {
     "data": {
      "text/html": [
       "<div>\n",
       "<style scoped>\n",
       "    .dataframe tbody tr th:only-of-type {\n",
       "        vertical-align: middle;\n",
       "    }\n",
       "\n",
       "    .dataframe tbody tr th {\n",
       "        vertical-align: top;\n",
       "    }\n",
       "\n",
       "    .dataframe thead th {\n",
       "        text-align: right;\n",
       "    }\n",
       "</style>\n",
       "<table border=\"1\" class=\"dataframe\">\n",
       "  <thead>\n",
       "    <tr style=\"text-align: right;\">\n",
       "      <th></th>\n",
       "      <th>fecha</th>\n",
       "      <th>temperaturaAmbiente</th>\n",
       "      <th>temperaturaSensor</th>\n",
       "      <th>irradiacion</th>\n",
       "    </tr>\n",
       "  </thead>\n",
       "  <tbody>\n",
       "    <tr>\n",
       "      <th>0</th>\n",
       "      <td>01.03.2024 15:45</td>\n",
       "      <td>24,00</td>\n",
       "      <td>31,00</td>\n",
       "      <td>288.00</td>\n",
       "    </tr>\n",
       "    <tr>\n",
       "      <th>1</th>\n",
       "      <td>01.03.2024 15:50</td>\n",
       "      <td>24,00</td>\n",
       "      <td>34,00</td>\n",
       "      <td>293.62</td>\n",
       "    </tr>\n",
       "    <tr>\n",
       "      <th>2</th>\n",
       "      <td>01.03.2024 15:55</td>\n",
       "      <td>24,00</td>\n",
       "      <td>34,00</td>\n",
       "      <td>340.00</td>\n",
       "    </tr>\n",
       "    <tr>\n",
       "      <th>3</th>\n",
       "      <td>01.03.2024 16:00</td>\n",
       "      <td>24,00</td>\n",
       "      <td>36,00</td>\n",
       "      <td>469.00</td>\n",
       "    </tr>\n",
       "    <tr>\n",
       "      <th>4</th>\n",
       "      <td>01.03.2024 16:05</td>\n",
       "      <td>24,00</td>\n",
       "      <td>36,00</td>\n",
       "      <td>385.00</td>\n",
       "    </tr>\n",
       "    <tr>\n",
       "      <th>...</th>\n",
       "      <td>...</td>\n",
       "      <td>...</td>\n",
       "      <td>...</td>\n",
       "      <td>...</td>\n",
       "    </tr>\n",
       "    <tr>\n",
       "      <th>12395</th>\n",
       "      <td>26.04.2024 09:20</td>\n",
       "      <td>23,00</td>\n",
       "      <td>33,00</td>\n",
       "      <td>302.00</td>\n",
       "    </tr>\n",
       "    <tr>\n",
       "      <th>12396</th>\n",
       "      <td>26.04.2024 09:30</td>\n",
       "      <td>23,00</td>\n",
       "      <td>34,00</td>\n",
       "      <td>303.00</td>\n",
       "    </tr>\n",
       "    <tr>\n",
       "      <th>12397</th>\n",
       "      <td>26.04.2024 09:40</td>\n",
       "      <td>23,00</td>\n",
       "      <td>32,99</td>\n",
       "      <td>264.03</td>\n",
       "    </tr>\n",
       "    <tr>\n",
       "      <th>12398</th>\n",
       "      <td>26.04.2024 09:50</td>\n",
       "      <td>23,00</td>\n",
       "      <td>32,00</td>\n",
       "      <td>268.00</td>\n",
       "    </tr>\n",
       "    <tr>\n",
       "      <th>12399</th>\n",
       "      <td>26.04.2024 10:00</td>\n",
       "      <td>23,00</td>\n",
       "      <td>32,00</td>\n",
       "      <td>311.00</td>\n",
       "    </tr>\n",
       "  </tbody>\n",
       "</table>\n",
       "<p>6259 rows × 4 columns</p>\n",
       "</div>"
      ],
      "text/plain": [
       "                  fecha temperaturaAmbiente temperaturaSensor  irradiacion\n",
       "0      01.03.2024 15:45            24,00             31,00          288.00\n",
       "1      01.03.2024 15:50            24,00             34,00          293.62\n",
       "2      01.03.2024 15:55            24,00             34,00          340.00\n",
       "3      01.03.2024 16:00            24,00             36,00          469.00\n",
       "4      01.03.2024 16:05            24,00             36,00          385.00\n",
       "...                 ...                 ...               ...          ...\n",
       "12395  26.04.2024 09:20            23,00             33,00          302.00\n",
       "12396  26.04.2024 09:30            23,00             34,00          303.00\n",
       "12397  26.04.2024 09:40            23,00             32,99          264.03\n",
       "12398  26.04.2024 09:50            23,00             32,00          268.00\n",
       "12399  26.04.2024 10:00            23,00             32,00          311.00\n",
       "\n",
       "[6259 rows x 4 columns]"
      ]
     },
     "execution_count": 13,
     "metadata": {},
     "output_type": "execute_result"
    }
   ],
   "source": [
    "# Renombrar columnas\n",
    "df.rename(columns={'Temperatura de módulo | Sensor Card / Box (1)': 'temperaturaSensor'}, inplace=True)\n",
    "df.rename(columns={'Temperatura ambiente | Sensor Card / Box (1)': 'temperaturaAmbiente'}, inplace=True)\n",
    "df.rename(columns={'Irradiación | Sensor Card / Box (1)': 'irradiacion'}, inplace=True)\n",
    "df.rename(columns={'Fecha y hora': 'fecha'}, inplace=True)\n",
    "\n",
    "# Quedarme con dos columnas de entrada y una de salida(irradiacion)\n",
    "df = df[['fecha','temperaturaAmbiente','temperaturaSensor','irradiacion']]\n",
    "\n",
    "# Eliminar los valores nulos\n",
    "df.dropna(inplace=True)\n",
    "\n",
    "df['irradiacion'] = df['irradiacion'].apply(lambda x: float(str(x).strip().replace(',','.')))\n",
    "\n",
    "# Solo quedarme con los valores que hay irradiación (Día)\n",
    "df = df[df['irradiacion'] > 0]\n",
    "df\n"
   ]
  },
  {
   "cell_type": "code",
   "execution_count": 14,
   "metadata": {},
   "outputs": [],
   "source": [
    "# Transformar la fecha a datetime\n",
    "df['fecha'] = pd.to_datetime(df['fecha'], format='%d.%m.%Y %H:%M')\n",
    "df['hora'] = [i.hour for i in df['fecha']]\n",
    "df['minuto'] = [i.minute for i in df['fecha']]\n",
    "# Parsear las columnas temperaturas a float\n",
    "df['temperaturaAmbiente'] = df['temperaturaAmbiente'].apply(lambda x: float(str(x).strip().replace(',','.')))\n",
    "df['temperaturaSensor'] = df['temperaturaSensor'].apply(lambda x: float(str(x).strip().replace(',','.')))"
   ]
  },
  {
   "cell_type": "markdown",
   "metadata": {},
   "source": [
    "### Separar los datos para Entrenamiento y TEST"
   ]
  },
  {
   "cell_type": "code",
   "execution_count": 15,
   "metadata": {},
   "outputs": [
    {
     "name": "stdout",
     "output_type": "stream",
     "text": [
      "Epoch 1/50\n",
      "126/126 [==============================] - 1s 3ms/step - loss: 137278.4688 - val_loss: 84005.0078\n",
      "Epoch 2/50\n",
      "126/126 [==============================] - 0s 2ms/step - loss: 72425.7969 - val_loss: 68455.7891\n",
      "Epoch 3/50\n",
      "126/126 [==============================] - 0s 2ms/step - loss: 61550.8945 - val_loss: 59846.5273\n",
      "Epoch 4/50\n",
      "126/126 [==============================] - 0s 2ms/step - loss: 55518.7734 - val_loss: 54441.0625\n",
      "Epoch 5/50\n",
      "126/126 [==============================] - 0s 2ms/step - loss: 51004.0312 - val_loss: 50445.2891\n",
      "Epoch 6/50\n",
      "126/126 [==============================] - 0s 2ms/step - loss: 47112.2422 - val_loss: 47167.0352\n",
      "Epoch 7/50\n",
      "126/126 [==============================] - 0s 2ms/step - loss: 44418.9570 - val_loss: 44867.4062\n",
      "Epoch 8/50\n",
      "126/126 [==============================] - 0s 2ms/step - loss: 42495.0664 - val_loss: 43529.1211\n",
      "Epoch 9/50\n",
      "126/126 [==============================] - 0s 2ms/step - loss: 40985.1719 - val_loss: 42070.9844\n",
      "Epoch 10/50\n",
      "126/126 [==============================] - 0s 2ms/step - loss: 39919.8594 - val_loss: 41361.2344\n",
      "Epoch 11/50\n",
      "126/126 [==============================] - 0s 2ms/step - loss: 39317.3438 - val_loss: 41031.4922\n",
      "Epoch 12/50\n",
      "126/126 [==============================] - 0s 2ms/step - loss: 38033.9648 - val_loss: 39609.4297\n",
      "Epoch 13/50\n",
      "126/126 [==============================] - 0s 2ms/step - loss: 37507.8086 - val_loss: 39171.0039\n",
      "Epoch 14/50\n",
      "126/126 [==============================] - 0s 2ms/step - loss: 36853.6914 - val_loss: 38665.2578\n",
      "Epoch 15/50\n",
      "126/126 [==============================] - 0s 2ms/step - loss: 36148.9688 - val_loss: 38159.1328\n",
      "Epoch 16/50\n",
      "126/126 [==============================] - 0s 2ms/step - loss: 35694.5977 - val_loss: 37586.3828\n",
      "Epoch 17/50\n",
      "126/126 [==============================] - 0s 2ms/step - loss: 35364.4883 - val_loss: 37567.9961\n",
      "Epoch 18/50\n",
      "126/126 [==============================] - 0s 2ms/step - loss: 34647.5977 - val_loss: 36642.7812\n",
      "Epoch 19/50\n",
      "126/126 [==============================] - 0s 2ms/step - loss: 34290.0781 - val_loss: 36333.3789\n",
      "Epoch 20/50\n",
      "126/126 [==============================] - 0s 2ms/step - loss: 33728.3086 - val_loss: 35892.2656\n",
      "Epoch 21/50\n",
      "126/126 [==============================] - 0s 3ms/step - loss: 33158.3867 - val_loss: 35855.6953\n",
      "Epoch 22/50\n",
      "126/126 [==============================] - 0s 2ms/step - loss: 32661.5508 - val_loss: 34971.3320\n",
      "Epoch 23/50\n",
      "126/126 [==============================] - 0s 2ms/step - loss: 32281.9609 - val_loss: 34280.9375\n",
      "Epoch 24/50\n",
      "126/126 [==============================] - 0s 2ms/step - loss: 31752.8848 - val_loss: 33700.8555\n",
      "Epoch 25/50\n",
      "126/126 [==============================] - 0s 2ms/step - loss: 31138.0547 - val_loss: 33751.9570\n",
      "Epoch 26/50\n",
      "126/126 [==============================] - 0s 2ms/step - loss: 30768.3730 - val_loss: 32766.0996\n",
      "Epoch 27/50\n",
      "126/126 [==============================] - 0s 2ms/step - loss: 29954.2168 - val_loss: 32074.4648\n",
      "Epoch 28/50\n",
      "126/126 [==============================] - 0s 2ms/step - loss: 29456.6855 - val_loss: 31563.6348\n",
      "Epoch 29/50\n",
      "126/126 [==============================] - 0s 2ms/step - loss: 28921.2832 - val_loss: 30450.7051\n",
      "Epoch 30/50\n",
      "126/126 [==============================] - 0s 2ms/step - loss: 28383.0840 - val_loss: 30183.6016\n",
      "Epoch 31/50\n",
      "126/126 [==============================] - 0s 2ms/step - loss: 27761.0840 - val_loss: 29977.7852\n",
      "Epoch 32/50\n",
      "126/126 [==============================] - 0s 2ms/step - loss: 27198.9531 - val_loss: 28609.8066\n",
      "Epoch 33/50\n",
      "126/126 [==============================] - 0s 2ms/step - loss: 26749.5371 - val_loss: 27757.1523\n",
      "Epoch 34/50\n",
      "126/126 [==============================] - 0s 2ms/step - loss: 26171.2676 - val_loss: 27286.8164\n",
      "Epoch 35/50\n",
      "126/126 [==============================] - 0s 2ms/step - loss: 25245.6035 - val_loss: 26484.0684\n",
      "Epoch 36/50\n",
      "126/126 [==============================] - 0s 2ms/step - loss: 24513.0879 - val_loss: 26150.5801\n",
      "Epoch 37/50\n",
      "126/126 [==============================] - 0s 2ms/step - loss: 24063.3477 - val_loss: 25290.8242\n",
      "Epoch 38/50\n",
      "126/126 [==============================] - 0s 2ms/step - loss: 23706.6465 - val_loss: 24639.7227\n",
      "Epoch 39/50\n",
      "126/126 [==============================] - 0s 2ms/step - loss: 23044.7500 - val_loss: 24165.9121\n",
      "Epoch 40/50\n",
      "126/126 [==============================] - 0s 2ms/step - loss: 22442.3906 - val_loss: 24155.3652\n",
      "Epoch 41/50\n",
      "126/126 [==============================] - 0s 2ms/step - loss: 21958.2617 - val_loss: 23196.3516\n",
      "Epoch 42/50\n",
      "126/126 [==============================] - 0s 2ms/step - loss: 21310.2793 - val_loss: 22069.4258\n",
      "Epoch 43/50\n",
      "126/126 [==============================] - 0s 2ms/step - loss: 20779.9395 - val_loss: 21626.3223\n",
      "Epoch 44/50\n",
      "126/126 [==============================] - 0s 2ms/step - loss: 20322.8145 - val_loss: 21751.6133\n",
      "Epoch 45/50\n",
      "126/126 [==============================] - 0s 2ms/step - loss: 19818.0977 - val_loss: 20471.5625\n",
      "Epoch 46/50\n",
      "126/126 [==============================] - 0s 2ms/step - loss: 19360.2539 - val_loss: 20473.1445\n",
      "Epoch 47/50\n",
      "126/126 [==============================] - 0s 2ms/step - loss: 19122.4434 - val_loss: 20787.4668\n",
      "Epoch 48/50\n",
      "126/126 [==============================] - 0s 2ms/step - loss: 18930.1387 - val_loss: 19808.7773\n",
      "Epoch 49/50\n",
      "126/126 [==============================] - 0s 2ms/step - loss: 18649.5527 - val_loss: 19568.4355\n",
      "Epoch 50/50\n",
      "126/126 [==============================] - 0s 2ms/step - loss: 18496.0273 - val_loss: 20749.4473\n"
     ]
    },
    {
     "data": {
      "text/plain": [
       "<keras.src.callbacks.History at 0x19a200c3250>"
      ]
     },
     "execution_count": 15,
     "metadata": {},
     "output_type": "execute_result"
    }
   ],
   "source": [
    "X = df[['temperaturaAmbiente', 'hora', 'minuto']].values\n",
    "\n",
    "# La radiación será nuestra variable de salida\n",
    "y = df['irradiacion'].values\n",
    "\n",
    "# Dividir los datos en conjuntos de entrenamiento y prueba\n",
    "X_train, X_test, y_train, y_test = train_test_split(X, y, test_size=0.2, random_state=42)\n",
    "\n",
    "# Definir la arquitectura de la RNA\n",
    "model = tf.keras.Sequential([\n",
    "    tf.keras.layers.Dense(64, activation='relu', input_shape=(3,)), #  variables de entrada\n",
    "    tf.keras.layers.Dense(32, activation='relu'),\n",
    "    tf.keras.layers.Dense(1)  # Capa de salida con una sola neurona para predecir la radiación\n",
    "])\n",
    "\n",
    "# Compilar el modelo\n",
    "model.compile(optimizer='adam', loss='mean_squared_error')\n",
    "\n",
    "# Entrenar el modelo\n",
    "model.fit(X_train, y_train, epochs=50, batch_size=32, validation_split=0.2)\n",
    "\n"
   ]
  },
  {
   "cell_type": "code",
   "execution_count": 16,
   "metadata": {},
   "outputs": [
    {
     "name": "stdout",
     "output_type": "stream",
     "text": [
      "40/40 [==============================] - 0s 2ms/step - loss: 20084.0703\n",
      "Loss en el conjunto de prueba: 20084.0703125\n"
     ]
    }
   ],
   "source": [
    "# Evaluar el modelo\n",
    "loss = model.evaluate(X_test, y_test)\n",
    "print(\"Loss en el conjunto de prueba:\", loss)"
   ]
  },
  {
   "cell_type": "code",
   "execution_count": 17,
   "metadata": {},
   "outputs": [
    {
     "name": "stdout",
     "output_type": "stream",
     "text": [
      "40/40 [==============================] - 0s 1ms/step\n",
      "Coeficiente de determinación (R²): 0.7516623196755863\n"
     ]
    }
   ],
   "source": [
    "from sklearn.metrics import mean_squared_error, r2_score\n",
    "y_pred = model.predict(X_test)\n",
    "mse = mean_squared_error(y_test, y_pred)\n",
    "r2 = r2_score(y_test, y_pred)\n",
    "\n",
    "print(\"Coeficiente de determinación (R²):\", r2)"
   ]
  },
  {
   "cell_type": "code",
   "execution_count": 18,
   "metadata": {},
   "outputs": [
    {
     "name": "stdout",
     "output_type": "stream",
     "text": [
      "INFO:tensorflow:Assets written to: modelo_rna_v3\\assets\n"
     ]
    },
    {
     "name": "stderr",
     "output_type": "stream",
     "text": [
      "INFO:tensorflow:Assets written to: modelo_rna_v3\\assets\n"
     ]
    }
   ],
   "source": [
    "# Guardar modelo\n",
    "model.save('modelo_rna_v3')"
   ]
  },
  {
   "cell_type": "code",
   "execution_count": 19,
   "metadata": {},
   "outputs": [
    {
     "name": "stdout",
     "output_type": "stream",
     "text": [
      "WARNING:tensorflow:From c:\\Users\\luisj\\AppData\\Local\\Programs\\Python\\Python310\\lib\\site-packages\\keras\\src\\saving\\legacy\\saved_model\\load.py:107: The name tf.gfile.Exists is deprecated. Please use tf.io.gfile.exists instead.\n",
      "\n"
     ]
    },
    {
     "name": "stderr",
     "output_type": "stream",
     "text": [
      "WARNING:tensorflow:From c:\\Users\\luisj\\AppData\\Local\\Programs\\Python\\Python310\\lib\\site-packages\\keras\\src\\saving\\legacy\\saved_model\\load.py:107: The name tf.gfile.Exists is deprecated. Please use tf.io.gfile.exists instead.\n",
      "\n"
     ]
    },
    {
     "name": "stdout",
     "output_type": "stream",
     "text": [
      "Modelo cargado\n",
      "1/1 [==============================] - 0s 70ms/step\n"
     ]
    },
    {
     "data": {
      "text/plain": [
       "array([[451.38565]], dtype=float32)"
      ]
     },
     "execution_count": 19,
     "metadata": {},
     "output_type": "execute_result"
    }
   ],
   "source": [
    "# Cargar modelo\n",
    "from tensorflow.keras.models import load_model\n",
    "\n",
    "# Cargar el modelo\n",
    "modelo_cargado = load_model('modelo_rna_v3')\n",
    "\n",
    "# Confirmación de que el modelo se ha cargado correctamente\n",
    "print(\"Modelo cargado\")\n",
    "modelo_cargado.predict([[23,9,40]])"
   ]
  }
 ],
 "metadata": {
  "kernelspec": {
   "display_name": "Python 3",
   "language": "python",
   "name": "python3"
  },
  "language_info": {
   "codemirror_mode": {
    "name": "ipython",
    "version": 3
   },
   "file_extension": ".py",
   "mimetype": "text/x-python",
   "name": "python",
   "nbconvert_exporter": "python",
   "pygments_lexer": "ipython3",
   "version": "3.10.11"
  }
 },
 "nbformat": 4,
 "nbformat_minor": 2
}
